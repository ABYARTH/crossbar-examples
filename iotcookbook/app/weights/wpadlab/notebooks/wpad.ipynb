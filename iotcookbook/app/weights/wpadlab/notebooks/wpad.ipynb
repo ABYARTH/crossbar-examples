{
 "metadata": {
  "name": ""
 },
 "nbformat": 3,
 "nbformat_minor": 0,
 "worksheets": [
  {
   "cells": [
    {
     "cell_type": "code",
     "collapsed": false,
     "input": [
      "# Define a helper function to call into Wpad procedures via the Crossbar.io REST bridge\n",
      "\n",
      "#rpc_url = \"https://demo.crossbar.io/call\"\n",
      "rpc_url = \"http://localhost:8080/call\"\n",
      "\n",
      "import requests, json\n",
      "\n",
      "def call(proc, *args, **kwargs):\n",
      "    payload = {\n",
      "        \"procedure\": \"io.crossbar.demo.{}\".format(proc),\n",
      "        \"args\": args,\n",
      "        \"kwargs\": kwargs\n",
      "    }\n",
      "    r = requests.post(rpc_url, data=json.dumps(payload),\n",
      "                      headers={'content-type': 'application/json'})\n",
      "    res = r.json()\n",
      "    return res['args'][0]\n",
      "    "
     ],
     "language": "python",
     "metadata": {},
     "outputs": [],
     "prompt_number": 103
    },
    {
     "cell_type": "code",
     "collapsed": false,
     "input": [
      "# Get a data series previously stored from the Wpad Lab UI: a dict with keys \"A0\" - \"A6\" and \"T\"\n",
      "# is returned with arrays of ints with the analog sensors readings (0-1023) and the user defined\n",
      "# target value (if any was provided)\n",
      "\n",
      "series = call(\"wpad.objstore.get\", \"series\", 3)\n",
      "series"
     ],
     "language": "python",
     "metadata": {},
     "outputs": [
      {
       "metadata": {},
       "output_type": "pyout",
       "prompt_number": 104,
       "text": [
        "{u'A0': [1, 1, 2, 1, 1, 1, 1],\n",
        " u'A1': [1, 1, 1, 0, 1, 1, 0],\n",
        " u'A2': [0, 0, 0, 1, 2, 1, 1],\n",
        " u'A3': [0, 0, 1, 1, 1, 1, 0],\n",
        " u'A4': [173, 250, 324, 344, 339, 281, 169],\n",
        " u'A5': [87, 237, 388, 488, 435, 249, 84],\n",
        " u'A6': [48, 94, 165, 194, 166, 97, 50],\n",
        " u'T': [0, 1, 2, 3, 2, 1, 0]}"
       ]
      }
     ],
     "prompt_number": 104
    },
    {
     "cell_type": "code",
     "collapsed": false,
     "input": [
      "# Import libs and activate inline plotting\n",
      "\n",
      "%matplotlib inline\n",
      "import matplotlib.pyplot as plt\n",
      "import numpy as np"
     ],
     "language": "python",
     "metadata": {},
     "outputs": [],
     "prompt_number": 105
    },
    {
     "cell_type": "code",
     "collapsed": false,
     "input": [
      "# Define a Wpad data series plotting helper\n",
      "\n",
      "def plot_series(series):\n",
      "    fig, ax = plt.subplots()\n",
      "    ind = np.arange(len(series['T']))\n",
      "    width, colors = 0.3, ['r', 'b', 'g']\n",
      "    for i in range(3):\n",
      "        ax.bar(ind + width * i, series['A{}'.format(i + 4)], width, color=colors[i])"
     ],
     "language": "python",
     "metadata": {},
     "outputs": [],
     "prompt_number": 106
    },
    {
     "cell_type": "code",
     "collapsed": false,
     "input": [
      "# Plot a Wpad data series: each of the three colors corresponds to one of the analog sensors\n",
      "\n",
      "plot_series(series)"
     ],
     "language": "python",
     "metadata": {},
     "outputs": [
      {
       "metadata": {},
       "output_type": "display_data",
       "png": "[encoded data removed]",
       "text": [
        "<matplotlib.figure.Figure at 0x2b8708483650>"
       ]
      }
     ],
     "prompt_number": 107
    },
    {
     "cell_type": "code",
     "collapsed": false,
     "input": [
      "# Load a second data series\n",
      "\n",
      "series2 = call(\"wpad.objstore.get\", \"series\", 4)\n",
      "series2"
     ],
     "language": "python",
     "metadata": {},
     "outputs": [
      {
       "metadata": {},
       "output_type": "pyout",
       "prompt_number": 108,
       "text": [
        "{u'A0': [1, 1, 1, 1, 2, 1, 0],\n",
        " u'A1': [1, 1, 1, 1, 1, 1, 0],\n",
        " u'A2': [0, 0, 1, 1, 1, 1, 0],\n",
        " u'A3': [0, 1, 1, 0, 1, 0, 1],\n",
        " u'A4': [175, 301, 330, 395, 342, 279, 181],\n",
        " u'A5': [83, 262, 415, 539, 443, 265, 90],\n",
        " u'A6': [51, 109, 162, 273, 191, 112, 53],\n",
        " u'T': [0, 1, 2, 3, 2, 1, 0]}"
       ]
      }
     ],
     "prompt_number": 108
    },
    {
     "cell_type": "code",
     "collapsed": false,
     "input": [
      "plot_series(series2)"
     ],
     "language": "python",
     "metadata": {},
     "outputs": [
      {
       "metadata": {},
       "output_type": "display_data",
       "png": "[encoded data removed]",
       "text": [
        "<matplotlib.figure.Figure at 0x2b86fe2b6790>"
       ]
      }
     ],
     "prompt_number": 109
    },
    {
     "cell_type": "code",
     "collapsed": false,
     "input": [
      "# Fit a logit model to the first data series\n",
      "\n",
      "from sklearn import linear_model\n",
      "\n",
      "X = np.matrix([series['A4'], series['A5'], series['A6']]).transpose()\n",
      "y = series['T']\n",
      "\n",
      "clf = linear_model.LogisticRegression(C=1.)\n",
      "clf.fit(X, y)"
     ],
     "language": "python",
     "metadata": {},
     "outputs": [
      {
       "metadata": {},
       "output_type": "pyout",
       "prompt_number": 96,
       "text": [
        "LogisticRegression(C=1.0, class_weight=None, dual=False, fit_intercept=True,\n",
        "          intercept_scaling=1, penalty='l2', random_state=None, tol=0.0001)"
       ]
      }
     ],
     "prompt_number": 96
    },
    {
     "cell_type": "code",
     "collapsed": false,
     "input": [
      "# Check prediction error on second data series\n",
      "\n",
      "from sklearn import metrics\n",
      "\n",
      "X2 = np.matrix([series2['A4'], series2['A5'], series2['A6']]).transpose()\n",
      "y2 = series2['T']\n",
      "\n",
      "pred = clf.predict(X2)\n",
      "s = metrics.mean_absolute_error(y2, pred)\n",
      "s"
     ],
     "language": "python",
     "metadata": {},
     "outputs": [
      {
       "metadata": {},
       "output_type": "pyout",
       "prompt_number": 97,
       "text": [
        "0.14285714285714285"
       ]
      }
     ],
     "prompt_number": 97
    },
    {
     "cell_type": "code",
     "collapsed": false,
     "input": [
      "# Dynamically access current sensor values (A4, A5, A6)\n",
      "\n",
      "call(\"wpad.1.get_last\")[\"values\"][4:7]"
     ],
     "language": "python",
     "metadata": {},
     "outputs": [
      {
       "metadata": {},
       "output_type": "pyout",
       "prompt_number": 120,
       "text": [
        "[457, 557, 465]"
       ]
      }
     ],
     "prompt_number": 120
    },
    {
     "cell_type": "code",
     "collapsed": false,
     "input": [
      "# Predict target var based on current sensor values\n",
      "\n",
      "values = call(\"wpad.1.get_last\")[\"values\"][4:7]\n",
      "clf.predict(values)[0]"
     ],
     "language": "python",
     "metadata": {},
     "outputs": [
      {
       "metadata": {},
       "output_type": "pyout",
       "prompt_number": 132,
       "text": [
        "2"
       ]
      }
     ],
     "prompt_number": 132
    },
    {
     "cell_type": "code",
     "collapsed": false,
     "input": [
      "# Here are the model coefficients:\n",
      "\n",
      "model = [list(row) for row in clf.coef_]\n",
      "model"
     ],
     "language": "python",
     "metadata": {},
     "outputs": [
      {
       "metadata": {},
       "output_type": "pyout",
       "prompt_number": 125,
       "text": [
        "[[0.11444532281988437, -0.15328988614161751, -0.0040102902663582676],\n",
        " [0.094062839931425918, 0.22228475727402477, -0.7910754548561505],\n",
        " [-0.024399521878060101, 0.011543099820025049, 0.020029683816672542],\n",
        " [-0.24654936881786585, 0.13814971268820128, 0.11366605149775383]]"
       ]
      }
     ],
     "prompt_number": 125
    },
    {
     "cell_type": "code",
     "collapsed": false,
     "input": [
      "# Upload the model coefficients\n",
      "\n",
      "call(\"wpad.objstore.save\", \"model\", model)"
     ],
     "language": "python",
     "metadata": {},
     "outputs": [
      {
       "metadata": {},
       "output_type": "pyout",
       "prompt_number": 131,
       "text": [
        "2"
       ]
      }
     ],
     "prompt_number": 131
    },
    {
     "cell_type": "code",
     "collapsed": false,
     "input": [],
     "language": "python",
     "metadata": {},
     "outputs": []
    }
   ],
   "metadata": {}
  }
 ]
}