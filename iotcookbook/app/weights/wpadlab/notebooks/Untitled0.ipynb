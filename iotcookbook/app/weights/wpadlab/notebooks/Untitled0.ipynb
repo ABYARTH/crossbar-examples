{
 "metadata": {
  "name": ""
 },
 "nbformat": 3,
 "nbformat_minor": 0,
 "worksheets": [
  {
   "cells": [
    {
     "cell_type": "code",
     "collapsed": false,
     "input": [
      "import requests, json\n",
      "\n",
      "def get_series(series_id):\n",
      "    payload = {\"procedure\": \"io.crossbar.demo.wpad.get_series\", \"args\": [series_id]}\n",
      "    r = requests.post(\"https://demo.crossbar.io/call\", data=json.dumps(payload), headers={'content-type': 'application/json'})\n",
      "    res = r.json()\n",
      "    return res['args'][0]"
     ],
     "language": "python",
     "metadata": {},
     "outputs": [],
     "prompt_number": 5
    },
    {
     "cell_type": "code",
     "collapsed": false,
     "input": [
      "s2 = get_series(2)"
     ],
     "language": "python",
     "metadata": {},
     "outputs": [],
     "prompt_number": 10
    },
    {
     "cell_type": "code",
     "collapsed": false,
     "input": [
      "s2"
     ],
     "language": "python",
     "metadata": {},
     "outputs": [
      {
       "metadata": {},
       "output_type": "pyout",
       "prompt_number": 11,
       "text": [
        "{u'A0': [928, 926, 916, 546, 546, 547, 547],\n",
        " u'A1': [916, 941, 932, 348, 350, 350, 349],\n",
        " u'A2': [935, 925, 903, 368, 375, 379, 381],\n",
        " u'A3': [908, 939, 925, 601, 601, 602, 602],\n",
        " u'A4': [166, 221, 255, 274, 292, 324, 303],\n",
        " u'A5': [41, 69, 107, 170, 228, 281, 294],\n",
        " u'A6': [41, 51, 66, 78, 93, 119, 133],\n",
        " u'T': [0, 1, 2, 3, 4, 5, 6]}"
       ]
      }
     ],
     "prompt_number": 11
    },
    {
     "cell_type": "code",
     "collapsed": false,
     "input": [
      "%matplotlib inline\n",
      "import matplotlib.pyplot as plt\n",
      "import numpy as np"
     ],
     "language": "python",
     "metadata": {},
     "outputs": [],
     "prompt_number": 12
    },
    {
     "cell_type": "code",
     "collapsed": false,
     "input": [
      "def plot_series(series):\n",
      "    fig, ax = plt.subplots()\n",
      "    N = len(series['T'])\n",
      "    ind = np.arange(N)\n",
      "    width = 0.8 / float(N)\n",
      "    colors = ['r', 'b', 'g']\n",
      "    for i in range(3):\n",
      "        ax.bar(ind + width * i, series['A{}'.format(i + 4)], width, color=colors[i])"
     ],
     "language": "python",
     "metadata": {},
     "outputs": [],
     "prompt_number": 13
    },
    {
     "cell_type": "code",
     "collapsed": false,
     "input": [
      "plot_series(s2)"
     ],
     "language": "python",
     "metadata": {},
     "outputs": [
      {
       "metadata": {},
       "output_type": "display_data",
       "png": "[encoded data removed]",
       "text": [
        "<matplotlib.figure.Figure at 0x2ac227eb89d0>"
       ]
      }
     ],
     "prompt_number": 14
    },
    {
     "cell_type": "code",
     "collapsed": false,
     "input": [],
     "language": "python",
     "metadata": {},
     "outputs": []
    }
   ],
   "metadata": {}
  }
 ]
}