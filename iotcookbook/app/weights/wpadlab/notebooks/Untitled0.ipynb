{
 "metadata": {
  "name": ""
 },
 "nbformat": 3,
 "nbformat_minor": 0,
 "worksheets": [
  {
   "cells": [
    {
     "cell_type": "code",
     "collapsed": false,
     "input": [
      "#rpc_url = \"https://demo.crossbar.io/call\"\n",
      "rpc_url = \"http://localhost:8080/call\"\n",
      "\n",
      "import requests, json\n",
      "\n",
      "def get_obj(obj_type, obj_id):\n",
      "    payload = {\"procedure\": \"io.crossbar.demo.wpad.objstore.get\", \"args\": [obj_type, obj_id]}\n",
      "    r = requests.post(rpc_url, data=json.dumps(payload), headers={'content-type': 'application/json'})\n",
      "    res = r.json()\n",
      "    obj_data = res['args'][0]\n",
      "    return obj_data\n",
      "\n",
      "def save_obj(obj_type, obj_data):\n",
      "    payload = {\"procedure\": \"io.crossbar.demo.wpad.objstore.save\", \"args\": [obj_type, obj_data]}\n",
      "    r = requests.post(rpc_url, data=json.dumps(payload), headers={'content-type': 'application/json'})\n",
      "    res = r.json()\n",
      "    obj_id = res['args'][0]\n",
      "    return obj_id\n"
     ],
     "language": "python",
     "metadata": {},
     "outputs": [],
     "prompt_number": 73
    },
    {
     "cell_type": "code",
     "collapsed": false,
     "input": [
      "series = get_obj(\"series\", 1)\n",
      "series"
     ],
     "language": "python",
     "metadata": {},
     "outputs": [
      {
       "metadata": {},
       "output_type": "pyout",
       "prompt_number": 75,
       "text": [
        "{u'A0': [1, 1, 0, 1, 1, 0, 1, 1, 1, 1, 1, 1, 1],\n",
        " u'A1': [0, 0, 1, 0, 3, 1, 1, 1, 1, 1, 0, 1, 1],\n",
        " u'A2': [1, 1, 0, 0, 0, 0, 1, 0, 1, 1, 1, 1, 0],\n",
        " u'A3': [1, 1, 1, 0, 2, 1, 1, 1, 1, 1, 1, 0, 0],\n",
        " u'A4': [312, 314, 329, 368, 383, 400, 399, 408, 386, 385, 335, 307, 291],\n",
        " u'A5': [157, 161, 194, 236, 266, 273, 290, 282, 278, 254, 214, 169, 156],\n",
        " u'A6': [87, 90, 105, 132, 143, 159, 178, 164, 155, 154, 118, 97, 76],\n",
        " u'T': [0, 1, 2, 3, 4, 5, 6, 5, 4, 3, 2, 1, 0]}"
       ]
      }
     ],
     "prompt_number": 75
    },
    {
     "cell_type": "code",
     "collapsed": false,
     "input": [
      "%matplotlib inline\n",
      "import matplotlib.pyplot as plt\n",
      "import numpy as np"
     ],
     "language": "python",
     "metadata": {},
     "outputs": [],
     "prompt_number": 76
    },
    {
     "cell_type": "code",
     "collapsed": false,
     "input": [
      "def plot_series(series):\n",
      "    fig, ax = plt.subplots()\n",
      "    N = len(series['T'])\n",
      "    ind = np.arange(N)\n",
      "    width = 0.3\n",
      "    colors = ['r', 'b', 'g']\n",
      "    for i in range(3):\n",
      "        ax.bar(ind + width * i, series['A{}'.format(i + 4)], width, color=colors[i])"
     ],
     "language": "python",
     "metadata": {},
     "outputs": [],
     "prompt_number": 77
    },
    {
     "cell_type": "code",
     "collapsed": false,
     "input": [
      "plot_series(series)"
     ],
     "language": "python",
     "metadata": {},
     "outputs": [
      {
       "metadata": {},
       "output_type": "display_data",
       "png": "[encoded data removed]",
       "text": [
        "<matplotlib.figure.Figure at 0x2b82a44ccf10>"
       ]
      }
     ],
     "prompt_number": 78
    },
    {
     "cell_type": "code",
     "collapsed": false,
     "input": [
      "import numpy as np\n",
      "from scipy.optimize import curve_fit\n",
      "def func(x, a, b, c):\n",
      "    return a * np.exp(-b * x) + c\n",
      "xdata = np.linspace(0, 4, 50)\n",
      "#xdata = np.linspace(0, 4, 7)\n",
      "y = func(xdata, -2.5, 1.3, 2.5)\n",
      "#y = series1['A4']\n",
      "ydata = y + 0.2 * np.random.normal(size=len(xdata))\n",
      "popt, pcov = curve_fit(func, xdata, ydata)\n"
     ],
     "language": "python",
     "metadata": {},
     "outputs": [],
     "prompt_number": 46
    },
    {
     "cell_type": "code",
     "collapsed": false,
     "input": [
      "series1['A4']"
     ],
     "language": "python",
     "metadata": {},
     "outputs": [
      {
       "metadata": {},
       "output_type": "pyout",
       "prompt_number": 47,
       "text": [
        "[169, 193, 238, 261, 264, 282, 294]"
       ]
      }
     ],
     "prompt_number": 47
    },
    {
     "cell_type": "code",
     "collapsed": false,
     "input": [
      "pcov"
     ],
     "language": "python",
     "metadata": {},
     "outputs": [
      {
       "metadata": {},
       "output_type": "pyout",
       "prompt_number": 48,
       "text": [
        "array([[ 0.01321469, -0.00363702, -0.00135449],\n",
        "       [-0.00363702,  0.01530073, -0.00635386],\n",
        "       [-0.00135449, -0.00635386,  0.00415211]])"
       ]
      }
     ],
     "prompt_number": 48
    },
    {
     "cell_type": "code",
     "collapsed": false,
     "input": [
      "plt.figure()\n",
      "plt.plot(xdata, ydata, 'ko')\n",
      "plt.plot(xdata, func(xdata, *popt), 'r-')\n",
      "plt.show()"
     ],
     "language": "python",
     "metadata": {},
     "outputs": [
      {
       "metadata": {},
       "output_type": "display_data",
       "png": "[encoded data removed]",
       "text": [
        "<matplotlib.figure.Figure at 0x2ac228354a50>"
       ]
      }
     ],
     "prompt_number": 49
    },
    {
     "cell_type": "code",
     "collapsed": false,
     "input": [
      "from sklearn import datasets"
     ],
     "language": "python",
     "metadata": {},
     "outputs": [],
     "prompt_number": 1
    },
    {
     "cell_type": "code",
     "collapsed": false,
     "input": [
      "boston = datasets.load_boston()\n",
      "X, y = boston.data, np.round(boston.target)\n",
      "X -= X.mean()\n",
      "y -= y.min()"
     ],
     "language": "python",
     "metadata": {},
     "outputs": [],
     "prompt_number": 4
    },
    {
     "cell_type": "code",
     "collapsed": false,
     "input": [
      "from sklearn import linear_model\n",
      "clf = linear_model.Ridge(alpha=1.)\n",
      "clf.fit(X[train], y[train])\n",
      "pred = np.round(clf.predict(X[test]))\n",
      "s = metrics.mean_absolute_error(y[test], pred)"
     ],
     "language": "python",
     "metadata": {},
     "outputs": [
      {
       "ename": "NameError",
       "evalue": "name 'train' is not defined",
       "output_type": "pyerr",
       "traceback": [
        "\u001b[0;31m---------------------------------------------------------------------------\u001b[0m\n\u001b[0;31mNameError\u001b[0m                                 Traceback (most recent call last)",
        "\u001b[0;32m<ipython-input-7-21707d89bf41>\u001b[0m in \u001b[0;36m<module>\u001b[0;34m()\u001b[0m\n\u001b[1;32m      1\u001b[0m \u001b[0;32mfrom\u001b[0m \u001b[0msklearn\u001b[0m \u001b[0;32mimport\u001b[0m \u001b[0mlinear_model\u001b[0m\u001b[0;34m\u001b[0m\u001b[0m\n\u001b[1;32m      2\u001b[0m \u001b[0mclf\u001b[0m \u001b[0;34m=\u001b[0m \u001b[0mlinear_model\u001b[0m\u001b[0;34m.\u001b[0m\u001b[0mRidge\u001b[0m\u001b[0;34m(\u001b[0m\u001b[0malpha\u001b[0m\u001b[0;34m=\u001b[0m\u001b[0;36m1.\u001b[0m\u001b[0;34m)\u001b[0m\u001b[0;34m\u001b[0m\u001b[0m\n\u001b[0;32m----> 3\u001b[0;31m \u001b[0mclf\u001b[0m\u001b[0;34m.\u001b[0m\u001b[0mfit\u001b[0m\u001b[0;34m(\u001b[0m\u001b[0mX\u001b[0m\u001b[0;34m[\u001b[0m\u001b[0mtrain\u001b[0m\u001b[0;34m]\u001b[0m\u001b[0;34m,\u001b[0m \u001b[0my\u001b[0m\u001b[0;34m[\u001b[0m\u001b[0mtrain\u001b[0m\u001b[0;34m]\u001b[0m\u001b[0;34m)\u001b[0m\u001b[0;34m\u001b[0m\u001b[0m\n\u001b[0m\u001b[1;32m      4\u001b[0m \u001b[0mpred\u001b[0m \u001b[0;34m=\u001b[0m \u001b[0mnp\u001b[0m\u001b[0;34m.\u001b[0m\u001b[0mround\u001b[0m\u001b[0;34m(\u001b[0m\u001b[0mclf\u001b[0m\u001b[0;34m.\u001b[0m\u001b[0mpredict\u001b[0m\u001b[0;34m(\u001b[0m\u001b[0mX\u001b[0m\u001b[0;34m[\u001b[0m\u001b[0mtest\u001b[0m\u001b[0;34m]\u001b[0m\u001b[0;34m)\u001b[0m\u001b[0;34m)\u001b[0m\u001b[0;34m\u001b[0m\u001b[0m\n\u001b[1;32m      5\u001b[0m \u001b[0ms\u001b[0m \u001b[0;34m=\u001b[0m \u001b[0mmetrics\u001b[0m\u001b[0;34m.\u001b[0m\u001b[0mmean_absolute_error\u001b[0m\u001b[0;34m(\u001b[0m\u001b[0my\u001b[0m\u001b[0;34m[\u001b[0m\u001b[0mtest\u001b[0m\u001b[0;34m]\u001b[0m\u001b[0;34m,\u001b[0m \u001b[0mpred\u001b[0m\u001b[0;34m)\u001b[0m\u001b[0;34m\u001b[0m\u001b[0m\n",
        "\u001b[0;31mNameError\u001b[0m: name 'train' is not defined"
       ]
      }
     ],
     "prompt_number": 7
    },
    {
     "cell_type": "code",
     "collapsed": false,
     "input": [
      "import matplotlib.pyplot as plt\n",
      "import numpy as np\n",
      "from sklearn import datasets, linear_model\n",
      "\n",
      "# Load the diabetes dataset\n",
      "diabetes = datasets.load_diabetes()\n",
      "\n",
      "\n",
      "# Use only one feature\n",
      "diabetes_X = diabetes.data[:, np.newaxis]\n",
      "diabetes_X_temp = diabetes_X[:, :, 2]\n",
      "\n",
      "# Split the data into training/testing sets\n",
      "diabetes_X_train = diabetes_X_temp[:-20]\n",
      "diabetes_X_test = diabetes_X_temp[-20:]\n",
      "\n",
      "# Split the targets into training/testing sets\n",
      "diabetes_y_train = diabetes.target[:-20]\n",
      "diabetes_y_test = diabetes.target[-20:]\n",
      "\n",
      "# Create linear regression object\n",
      "regr = linear_model.LinearRegression()\n",
      "\n",
      "# Train the model using the training sets\n",
      "regr.fit(diabetes_X_train, diabetes_y_train)\n",
      "\n",
      "# The coefficients\n",
      "print('Coefficients: \\n', regr.coef_)\n",
      "# The mean square error\n",
      "print(\"Residual sum of squares: %.2f\"\n",
      "      % np.mean((regr.predict(diabetes_X_test) - diabetes_y_test) ** 2))\n",
      "# Explained variance score: 1 is perfect prediction\n",
      "print('Variance score: %.2f' % regr.score(diabetes_X_test, diabetes_y_test))\n",
      "\n",
      "# Plot outputs\n",
      "plt.scatter(diabetes_X_test, diabetes_y_test,  color='black')\n",
      "plt.plot(diabetes_X_test, regr.predict(diabetes_X_test), color='blue',\n",
      "         linewidth=3)\n",
      "\n",
      "plt.xticks(())\n",
      "plt.yticks(())\n",
      "\n",
      "plt.show()\n",
      "\n"
     ],
     "language": "python",
     "metadata": {},
     "outputs": [
      {
       "output_type": "stream",
       "stream": "stdout",
       "text": [
        "('Coefficients: \\n', array([ 938.23786125]))\n",
        "Residual sum of squares: 2548.07\n",
        "Variance score: 0.47\n"
       ]
      },
      {
       "metadata": {},
       "output_type": "display_data",
       "png": "[encoded data removed]",
       "text": [
        "<matplotlib.figure.Figure at 0x2b82a4286b90>"
       ]
      }
     ],
     "prompt_number": 8
    },
    {
     "cell_type": "code",
     "collapsed": false,
     "input": [
      "diabetes_y_train"
     ],
     "language": "python",
     "metadata": {},
     "outputs": [
      {
       "metadata": {},
       "output_type": "pyout",
       "prompt_number": 10,
       "text": [
        "array([ 151.,   75.,  141.,  206.,  135.,   97.,  138.,   63.,  110.,\n",
        "        310.,  101.,   69.,  179.,  185.,  118.,  171.,  166.,  144.,\n",
        "         97.,  168.,   68.,   49.,   68.,  245.,  184.,  202.,  137.,\n",
        "         85.,  131.,  283.,  129.,   59.,  341.,   87.,   65.,  102.,\n",
        "        265.,  276.,  252.,   90.,  100.,   55.,   61.,   92.,  259.,\n",
        "         53.,  190.,  142.,   75.,  142.,  155.,  225.,   59.,  104.,\n",
        "        182.,  128.,   52.,   37.,  170.,  170.,   61.,  144.,   52.,\n",
        "        128.,   71.,  163.,  150.,   97.,  160.,  178.,   48.,  270.,\n",
        "        202.,  111.,   85.,   42.,  170.,  200.,  252.,  113.,  143.,\n",
        "         51.,   52.,  210.,   65.,  141.,   55.,  134.,   42.,  111.,\n",
        "         98.,  164.,   48.,   96.,   90.,  162.,  150.,  279.,   92.,\n",
        "         83.,  128.,  102.,  302.,  198.,   95.,   53.,  134.,  144.,\n",
        "        232.,   81.,  104.,   59.,  246.,  297.,  258.,  229.,  275.,\n",
        "        281.,  179.,  200.,  200.,  173.,  180.,   84.,  121.,  161.,\n",
        "         99.,  109.,  115.,  268.,  274.,  158.,  107.,   83.,  103.,\n",
        "        272.,   85.,  280.,  336.,  281.,  118.,  317.,  235.,   60.,\n",
        "        174.,  259.,  178.,  128.,   96.,  126.,  288.,   88.,  292.,\n",
        "         71.,  197.,  186.,   25.,   84.,   96.,  195.,   53.,  217.,\n",
        "        172.,  131.,  214.,   59.,   70.,  220.,  268.,  152.,   47.,\n",
        "         74.,  295.,  101.,  151.,  127.,  237.,  225.,   81.,  151.,\n",
        "        107.,   64.,  138.,  185.,  265.,  101.,  137.,  143.,  141.,\n",
        "         79.,  292.,  178.,   91.,  116.,   86.,  122.,   72.,  129.,\n",
        "        142.,   90.,  158.,   39.,  196.,  222.,  277.,   99.,  196.,\n",
        "        202.,  155.,   77.,  191.,   70.,   73.,   49.,   65.,  263.,\n",
        "        248.,  296.,  214.,  185.,   78.,   93.,  252.,  150.,   77.,\n",
        "        208.,   77.,  108.,  160.,   53.,  220.,  154.,  259.,   90.,\n",
        "        246.,  124.,   67.,   72.,  257.,  262.,  275.,  177.,   71.,\n",
        "         47.,  187.,  125.,   78.,   51.,  258.,  215.,  303.,  243.,\n",
        "         91.,  150.,  310.,  153.,  346.,   63.,   89.,   50.,   39.,\n",
        "        103.,  308.,  116.,  145.,   74.,   45.,  115.,  264.,   87.,\n",
        "        202.,  127.,  182.,  241.,   66.,   94.,  283.,   64.,  102.,\n",
        "        200.,  265.,   94.,  230.,  181.,  156.,  233.,   60.,  219.,\n",
        "         80.,   68.,  332.,  248.,   84.,  200.,   55.,   85.,   89.,\n",
        "         31.,  129.,   83.,  275.,   65.,  198.,  236.,  253.,  124.,\n",
        "         44.,  172.,  114.,  142.,  109.,  180.,  144.,  163.,  147.,\n",
        "         97.,  220.,  190.,  109.,  191.,  122.,  230.,  242.,  248.,\n",
        "        249.,  192.,  131.,  237.,   78.,  135.,  244.,  199.,  270.,\n",
        "        164.,   72.,   96.,  306.,   91.,  214.,   95.,  216.,  263.,\n",
        "        178.,  113.,  200.,  139.,  139.,   88.,  148.,   88.,  243.,\n",
        "         71.,   77.,  109.,  272.,   60.,   54.,  221.,   90.,  311.,\n",
        "        281.,  182.,  321.,   58.,  262.,  206.,  233.,  242.,  123.,\n",
        "        167.,   63.,  197.,   71.,  168.,  140.,  217.,  121.,  235.,\n",
        "        245.,   40.,   52.,  104.,  132.,   88.,   69.,  219.,   72.,\n",
        "        201.,  110.,   51.,  277.,   63.,  118.,   69.,  273.,  258.,\n",
        "         43.,  198.,  242.,  232.,  175.,   93.,  168.,  275.,  293.,\n",
        "        281.,   72.,  140.,  189.,  181.,  209.,  136.,  261.,  113.,\n",
        "        131.,  174.,  257.,   55.,   84.,   42.,  146.,  212.])"
       ]
      }
     ],
     "prompt_number": 10
    },
    {
     "cell_type": "code",
     "collapsed": false,
     "input": [
      "y = series[12]['T']"
     ],
     "language": "python",
     "metadata": {},
     "outputs": [],
     "prompt_number": 54
    },
    {
     "cell_type": "code",
     "collapsed": false,
     "input": [
      "X = np.matrix([series[12]['A4'], series[12]['A5'], series[12]['A6']])"
     ],
     "language": "python",
     "metadata": {},
     "outputs": [],
     "prompt_number": 55
    },
    {
     "cell_type": "code",
     "collapsed": false,
     "input": [
      "X = X.transpose()"
     ],
     "language": "python",
     "metadata": {},
     "outputs": [],
     "prompt_number": 56
    },
    {
     "cell_type": "code",
     "collapsed": false,
     "input": [
      "from sklearn import linear_model\n",
      "clf = linear_model.Ridge(alpha=1.)\n",
      "clf.fit(X, y)"
     ],
     "language": "python",
     "metadata": {},
     "outputs": [
      {
       "metadata": {},
       "output_type": "pyout",
       "prompt_number": 58,
       "text": [
        "Ridge(alpha=1.0, copy_X=True, fit_intercept=True, max_iter=None,\n",
        "   normalize=False, solver='auto', tol=0.001)"
       ]
      }
     ],
     "prompt_number": 58
    },
    {
     "cell_type": "code",
     "collapsed": false,
     "input": [
      "clf.predict([297, 220, 83])"
     ],
     "language": "python",
     "metadata": {},
     "outputs": [
      {
       "metadata": {},
       "output_type": "pyout",
       "prompt_number": 31,
       "text": [
        "2.8283445710756228"
       ]
      }
     ],
     "prompt_number": 31
    },
    {
     "cell_type": "code",
     "collapsed": false,
     "input": [
      "clf = linear_model.LogisticRegression(C=1.)\n",
      "clf.fit(X, y)\n",
      "clf.predict([297, 220, 83])\n",
      "clf.predict([330, 302, 150])"
     ],
     "language": "python",
     "metadata": {},
     "outputs": [
      {
       "metadata": {},
       "output_type": "pyout",
       "prompt_number": 60,
       "text": [
        "array([5])"
       ]
      }
     ],
     "prompt_number": 60
    },
    {
     "cell_type": "code",
     "collapsed": false,
     "input": [
      "clf.predict([297, 220, 83])"
     ],
     "language": "python",
     "metadata": {},
     "outputs": [
      {
       "metadata": {},
       "output_type": "pyout",
       "prompt_number": 35,
       "text": [
        "array([1])"
       ]
      }
     ],
     "prompt_number": 35
    },
    {
     "cell_type": "code",
     "collapsed": false,
     "input": [
      "clf.predict([330, 302, 150])"
     ],
     "language": "python",
     "metadata": {},
     "outputs": [
      {
       "metadata": {},
       "output_type": "pyout",
       "prompt_number": 36,
       "text": [
        "array([6])"
       ]
      }
     ],
     "prompt_number": 36
    },
    {
     "cell_type": "code",
     "collapsed": false,
     "input": [
      "clf.predict([360, 357, 189])"
     ],
     "language": "python",
     "metadata": {},
     "outputs": [
      {
       "metadata": {},
       "output_type": "pyout",
       "prompt_number": 37,
       "text": [
        "array([6])"
       ]
      }
     ],
     "prompt_number": 37
    },
    {
     "cell_type": "code",
     "collapsed": false,
     "input": [
      "clf.predict([263, 188, 64])"
     ],
     "language": "python",
     "metadata": {},
     "outputs": [
      {
       "metadata": {},
       "output_type": "pyout",
       "prompt_number": 38,
       "text": [
        "array([0])"
       ]
      }
     ],
     "prompt_number": 38
    },
    {
     "cell_type": "code",
     "collapsed": false,
     "input": [
      "clf"
     ],
     "language": "python",
     "metadata": {},
     "outputs": [
      {
       "metadata": {},
       "output_type": "pyout",
       "prompt_number": 39,
       "text": [
        "LogisticRegression(C=1.0, class_weight=None, dual=False, fit_intercept=True,\n",
        "          intercept_scaling=1, penalty='l2', random_state=None, tol=0.0001)"
       ]
      }
     ],
     "prompt_number": 39
    },
    {
     "cell_type": "code",
     "collapsed": false,
     "input": [
      "dir(clf)"
     ],
     "language": "python",
     "metadata": {},
     "outputs": [
      {
       "metadata": {},
       "output_type": "pyout",
       "prompt_number": 40,
       "text": [
        "['C',\n",
        " '__abstractmethods__',\n",
        " '__class__',\n",
        " '__delattr__',\n",
        " '__dict__',\n",
        " '__doc__',\n",
        " '__format__',\n",
        " '__getattribute__',\n",
        " '__hash__',\n",
        " '__init__',\n",
        " '__module__',\n",
        " '__new__',\n",
        " '__reduce__',\n",
        " '__reduce_ex__',\n",
        " '__repr__',\n",
        " '__setattr__',\n",
        " '__sizeof__',\n",
        " '__str__',\n",
        " '__subclasshook__',\n",
        " '__weakref__',\n",
        " '_abc_cache',\n",
        " '_abc_negative_cache',\n",
        " '_abc_negative_cache_version',\n",
        " '_abc_registry',\n",
        " '_enc',\n",
        " '_get_bias',\n",
        " '_get_param_names',\n",
        " '_get_solver_type',\n",
        " '_predict_proba_lr',\n",
        " '_solver_type_dict',\n",
        " 'class_weight',\n",
        " 'class_weight_',\n",
        " 'classes_',\n",
        " 'coef_',\n",
        " 'decision_function',\n",
        " 'densify',\n",
        " 'dual',\n",
        " 'fit',\n",
        " 'fit_intercept',\n",
        " 'fit_transform',\n",
        " 'get_params',\n",
        " 'intercept_',\n",
        " 'intercept_scaling',\n",
        " 'label_',\n",
        " 'loss',\n",
        " 'multi_class',\n",
        " 'penalty',\n",
        " 'predict',\n",
        " 'predict_log_proba',\n",
        " 'predict_proba',\n",
        " 'random_state',\n",
        " 'raw_coef_',\n",
        " 'score',\n",
        " 'set_params',\n",
        " 'sparsify',\n",
        " 'tol',\n",
        " 'transform',\n",
        " 'verbose']"
       ]
      }
     ],
     "prompt_number": 40
    },
    {
     "cell_type": "code",
     "collapsed": false,
     "input": [
      "clf.get_params()\n",
      "clf.coef_"
     ],
     "language": "python",
     "metadata": {},
     "outputs": [
      {
       "metadata": {},
       "output_type": "pyout",
       "prompt_number": 61,
       "text": [
        "array([[ 0.03382526,  0.02920771, -0.18165941],\n",
        "       [ 0.01041882, -0.03636583,  0.01133373],\n",
        "       [-0.01530294,  0.0643941 , -0.07502417],\n",
        "       [-0.00117937, -0.00197878, -0.00522471],\n",
        "       [-0.02689616,  0.01692337,  0.03306439],\n",
        "       [-0.06839477,  0.11027158, -0.00652221],\n",
        "       [-0.19151893, -0.03141371,  0.47594101]])"
       ]
      }
     ],
     "prompt_number": 61
    },
    {
     "cell_type": "code",
     "collapsed": false,
     "input": [
      "clf.predict([293, 148, 81])"
     ],
     "language": "python",
     "metadata": {},
     "outputs": [
      {
       "metadata": {},
       "output_type": "pyout",
       "prompt_number": 62,
       "text": [
        "array([0])"
       ]
      }
     ],
     "prompt_number": 62
    },
    {
     "cell_type": "code",
     "collapsed": false,
     "input": [
      "clf.predict([333, 177, 112])"
     ],
     "language": "python",
     "metadata": {},
     "outputs": [
      {
       "metadata": {},
       "output_type": "pyout",
       "prompt_number": 63,
       "text": [
        "array([3])"
       ]
      }
     ],
     "prompt_number": 63
    },
    {
     "cell_type": "code",
     "collapsed": false,
     "input": [],
     "language": "python",
     "metadata": {},
     "outputs": []
    }
   ],
   "metadata": {}
  }
 ]
}