{
 "metadata": {
  "name": ""
 },
 "nbformat": 3,
 "nbformat_minor": 0,
 "worksheets": [
  {
   "cells": [
    {
     "cell_type": "code",
     "collapsed": false,
     "input": [
      "# Define helper functions to call into Wpad Object Store via Crossbar.io REST bridge\n",
      "\n",
      "#rpc_url = \"https://demo.crossbar.io/call\"\n",
      "rpc_url = \"http://localhost:8080/call\"\n",
      "\n",
      "import requests, json\n",
      "\n",
      "def get_obj(obj_type, obj_id):\n",
      "    payload = {\"procedure\": \"io.crossbar.demo.wpad.objstore.get\", \"args\": [obj_type, obj_id]}\n",
      "    r = requests.post(rpc_url, data=json.dumps(payload), headers={'content-type': 'application/json'})\n",
      "    res = r.json()\n",
      "    obj_data = res['args'][0]\n",
      "    return obj_data\n",
      "\n",
      "def save_obj(obj_type, obj_data):\n",
      "    payload = {\"procedure\": \"io.crossbar.demo.wpad.objstore.save\", \"args\": [obj_type, obj_data]}\n",
      "    r = requests.post(rpc_url, data=json.dumps(payload), headers={'content-type': 'application/json'})\n",
      "    res = r.json()\n",
      "    obj_id = res['args'][0]\n",
      "    return obj_id\n"
     ],
     "language": "python",
     "metadata": {},
     "outputs": [],
     "prompt_number": 5
    },
    {
     "cell_type": "code",
     "collapsed": false,
     "input": [
      "# Get a data series previously stored from the Wpad Lab UI: a dict with keys \"A0\" - \"A6\" and \"T\"\n",
      "# is returned with arrays of ints with the analog sensors readings (0-1023) and the user defined\n",
      "# target value (if any was provided)\n",
      "\n",
      "series = get_obj(\"series\", 1)\n",
      "series"
     ],
     "language": "python",
     "metadata": {},
     "outputs": [
      {
       "metadata": {},
       "output_type": "pyout",
       "prompt_number": 6,
       "text": [
        "{u'A0': [1, 1, 0, 1, 1, 0, 1, 1, 1, 1, 1, 1, 1],\n",
        " u'A1': [0, 0, 1, 0, 3, 1, 1, 1, 1, 1, 0, 1, 1],\n",
        " u'A2': [1, 1, 0, 0, 0, 0, 1, 0, 1, 1, 1, 1, 0],\n",
        " u'A3': [1, 1, 1, 0, 2, 1, 1, 1, 1, 1, 1, 0, 0],\n",
        " u'A4': [312, 314, 329, 368, 383, 400, 399, 408, 386, 385, 335, 307, 291],\n",
        " u'A5': [157, 161, 194, 236, 266, 273, 290, 282, 278, 254, 214, 169, 156],\n",
        " u'A6': [87, 90, 105, 132, 143, 159, 178, 164, 155, 154, 118, 97, 76],\n",
        " u'T': [0, 1, 2, 3, 4, 5, 6, 5, 4, 3, 2, 1, 0]}"
       ]
      }
     ],
     "prompt_number": 6
    },
    {
     "cell_type": "code",
     "collapsed": false,
     "input": [
      "# Import libs and activate inline plotting\n",
      "\n",
      "%matplotlib inline\n",
      "import matplotlib.pyplot as plt\n",
      "import numpy as np"
     ],
     "language": "python",
     "metadata": {},
     "outputs": [],
     "prompt_number": 7
    },
    {
     "cell_type": "code",
     "collapsed": false,
     "input": [
      "# Define a Wpad data series plotting helper\n",
      "\n",
      "def plot_series(series):\n",
      "    fig, ax = plt.subplots()\n",
      "    ind = np.arange(len(series['T']))\n",
      "    width, colors = 0.3, ['r', 'b', 'g']\n",
      "    for i in range(3):\n",
      "        ax.bar(ind + width * i, series['A{}'.format(i + 4)], width, color=colors[i])"
     ],
     "language": "python",
     "metadata": {},
     "outputs": [],
     "prompt_number": 12
    },
    {
     "cell_type": "code",
     "collapsed": false,
     "input": [
      "# Plot a Wpad data series: each of the three colors corresponds to one of the analog sensors\n",
      "\n",
      "plot_series(series)"
     ],
     "language": "python",
     "metadata": {},
     "outputs": [
      {
       "metadata": {},
       "output_type": "display_data",
       "png": "[encoded data removed]",
       "text": [
        "<matplotlib.figure.Figure at 0x2b84114cdc90>"
       ]
      }
     ],
     "prompt_number": 13
    },
    {
     "cell_type": "code",
     "collapsed": false,
     "input": [
      "series2 = get_obj(\"series\", 2)\n",
      "series2"
     ],
     "language": "python",
     "metadata": {},
     "outputs": [],
     "prompt_number": 15
    },
    {
     "cell_type": "code",
     "collapsed": false,
     "input": [
      "from sklearn import linear_model\n",
      "\n",
      "X = np.matrix([series['A4'], series['A5'], series['A6']])\n",
      "y = series['T']\n",
      "\n",
      "clf = linear_model.LogisticRegression(C=1.)\n",
      "clf.fit(X, y)"
     ],
     "language": "python",
     "metadata": {},
     "outputs": []
    }
   ],
   "metadata": {}
  }
 ]
}